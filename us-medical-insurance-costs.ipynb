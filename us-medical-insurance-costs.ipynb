{
 "cells": [
  {
   "cell_type": "markdown",
   "metadata": {},
   "source": [
    "# U.S. Medical Insurance Costs"
   ]
  },
  {
   "cell_type": "markdown",
   "metadata": {},
   "source": [
    "# Goal\n",
    "The aim of this project is to analyze different situations that contributes to the total insurance cost a patient pays. The analysis below could help patients make choices that could in turn reduce their insurance costs.\n",
    "\n",
    "Analyze:\n",
    "* ages and insurance costs across ages\n",
    "* the percentage of males vs. females\n",
    "* the average yearly insurance for an individual\n",
    "* insurance costs among smokers and non-smokers\n",
    "* how number of children/smoker status affects the charges\n",
    "* insurance costs in different regions\n",
    "* average insurance based on bmi/smoker status\n",
    "\n",
    "and finally,\n",
    "* Create a dictionary that contains all patient information\n"
   ]
  },
  {
   "cell_type": "markdown",
   "metadata": {},
   "source": [
    "For this project, the csv and Counter libraries will be imported."
   ]
  },
  {
   "cell_type": "code",
   "execution_count": 1,
   "metadata": {},
   "outputs": [],
   "source": [
    "# import libraries\n",
    "import csv\n",
    "from collections import Counter"
   ]
  },
  {
   "cell_type": "markdown",
   "metadata": {},
   "source": [
    "The next step is to look through **insurance.csv** in order to get aquanted with the data. The following aspects of the data file will be checked in order to plan out how to import the data into a Python file:\n",
    "* The names of columns and rows\n",
    "* Any noticeable missing data\n",
    "* Types of values (numerical vs. categorical)"
   ]
  },
  {
   "cell_type": "markdown",
   "metadata": {},
   "source": [
    "**insurance.csv** contains the following columns:\n",
    "* Patient Age\n",
    "* Patient Sex \n",
    "* Patient BMI\n",
    "* Patient Number of Children\n",
    "* Patient Smoking Status\n",
    "* Patient U.S Geopraphical Region\n",
    "* Patient Yearly Medical Insurance Cost\n"
   ]
  },
  {
   "cell_type": "markdown",
   "metadata": {},
   "source": [
    "The helper function below will make loading data into the lists as efficient as possible. Therefore with this function, we can simply call `csv_into_lst()` each time as shown below."
   ]
  },
  {
   "cell_type": "code",
   "execution_count": 2,
   "metadata": {},
   "outputs": [],
   "source": [
    "# Helper function to load data into lists\n",
    "def csv_into_lst(csv_file, column_name):\n",
    "    lst = []\n",
    "    with open(csv_file) as csv_info:\n",
    "        csv_dict = csv.DictReader(csv_info)\n",
    "        for col in csv_dict:\n",
    "            lst.append(col[column_name])\n",
    "        return lst"
   ]
  },
  {
   "cell_type": "markdown",
   "metadata": {},
   "source": [
    "There are no signs of missing data. To store this information, seven variables **(ages, sexes, bmis, num_children, smoker_status, regions, insurance_charges)** will be defined. They contain lists to hold each individual column of data from **insurance.csv**.\n"
   ]
  },
  {
   "cell_type": "code",
   "execution_count": 3,
   "metadata": {},
   "outputs": [],
   "source": [
    "# call the function and save in respective variables\n",
    "ages = csv_into_lst('insurance.csv', 'age')\n",
    "sexes = csv_into_lst('insurance.csv', 'sex')\n",
    "bmis = csv_into_lst('insurance.csv', 'bmi')\n",
    "num_children = csv_into_lst('insurance.csv', 'children')\n",
    "smoker_status = csv_into_lst('insurance.csv', 'smoker')\n",
    "regions = csv_into_lst('insurance.csv', 'region')\n",
    "insurance_charges = csv_into_lst('insurance.csv', 'charges')"
   ]
  },
  {
   "cell_type": "markdown",
   "metadata": {},
   "source": [
    "To perform these inspections, a class called `InsuranceData` has been built out which contains several methods.\n",
    "The class has been built out below. "
   ]
  },
  {
   "cell_type": "code",
   "execution_count": 4,
   "metadata": {},
   "outputs": [],
   "source": [
    "# create a class\n",
    "\n",
    "class InsuranceData():\n",
    "    def __init__(self, patients_ages, patients_sexes, patients_bmis, patients_num_children, \n",
    "                 patients_smoker_statuses, patients_regions, patients_charges):\n",
    "        self.patients_ages = patients_ages\n",
    "        self.patients_sexes = patients_sexes\n",
    "        self.patients_bmis = patients_bmis\n",
    "        self.patients_num_children = patients_num_children\n",
    "        self.patients_smoker_statuses = patients_smoker_statuses\n",
    "        self.patients_regions = patients_regions\n",
    "        self.patients_charges = patients_charges\n",
    "    \n",
    "    \n",
    "    # find the average age of insurance payers\n",
    "    def analyze_ages(self):\n",
    "        ages = [int(i) for i in self.patients_ages]\n",
    "        avg = sum(ages) / len(self.patients_ages)\n",
    "        return ('The average age of a patient is ' + str(round(avg, 2)) + ' years')\n",
    "    \n",
    "    \n",
    "    # find which age dominates insurance payers\n",
    "    def dominant_age(self):\n",
    "        # count the number of occurences for each age \n",
    "        common_age = Counter(self.patients_ages)\n",
    "        # select the first item(.most_common sorts the list)\n",
    "        common_age = common_age.most_common(1)\n",
    "        majority_age = (common_age[0][0])\n",
    "        return ('The dominant age of taxpayers is ' + str(majority_age) + ' year olds')\n",
    "    \n",
    "    \n",
    "    # find the total insurance for each age\n",
    "    def total_insurance_age_x(self):\n",
    "        ages_charges = list(zip(self.patients_ages, self.patients_charges))\n",
    "        total_insurance_charges = sum([float(i) for i in self.patients_charges])\n",
    "        # range(18, 65) represents the different ages in the data\n",
    "        for i in range(18, 65):\n",
    "            # str(i) because it is '18' for example. It has not been converted to integer\n",
    "            total_sum_each_age = sum([float(item[1]) for item in ages_charges if item[0] == str(i)])\n",
    "            # print \"percentages\" if you want to see the percentages for each age\n",
    "            percentages = round((total_sum_each_age / total_insurance_charges) * 100, 2)\n",
    "            # print(\"The total insurance for \" + str(i) + \" year olds is {}\" .format(round(total_sum_each_age, 2)))\n",
    "\n",
    "    \n",
    "    # What percentage of male and female are represented in the dataset\n",
    "    def male_female_percentage(self):\n",
    "        num_male = self.patients_sexes.count('male')\n",
    "        num_female = self.patients_sexes.count('female')\n",
    "        total_gender = num_male + num_female\n",
    "        # calculate percentage for male/female rounded to the tenths place\n",
    "        male_percentage = round(((num_male / total_gender) * 100), 1)\n",
    "        female_percentage = round(((num_female / total_gender) * 100), 1)\n",
    "        return ('The percentage of male in the dataset is ' + str(male_percentage) + \n",
    "                '% and The percentage of female in the dataset is ' + str(female_percentage) + '%')\n",
    "    \n",
    "    # find the average yearly medical charges for patients \n",
    "    def average_charges(self):\n",
    "        # initialize total_charges variable\n",
    "        total_charges = 0\n",
    "        # iterate through charges in patients charges list\n",
    "        # add each charge to total_charges\n",
    "        for charge in self.patients_charges:\n",
    "            total_charges += float(charge)\n",
    "        # return the average charges rounded to the hundredths place\n",
    "        return (\"Average Yearly Medical Insurance Charges: \" +  \n",
    "                str(round(total_charges/len(self.patients_charges), 2)) + \" dollars.\")\n",
    "    \n",
    "    \n",
    "    # Calculate the average insurance for male or female\n",
    "    def gender_average_insurance(self):\n",
    "        sexes_charges = list(zip(self.patients_sexes, self.patients_charges))\n",
    "        # filter for charges: where sex == 'male' or 'female'\n",
    "        sexes = ['male', 'female']\n",
    "        for i in sexes:\n",
    "            # str(i) because it is 'male' or 'female'\n",
    "            gender = [item[1] for item in sexes_charges if item[0] == str(i)]\n",
    "            gender_numbers = [float(item) for item in gender]\n",
    "            avg_gender_ins = sum(gender_numbers) / len(gender_numbers)\n",
    "            print('The average insurance each ' + i + ' pays is ' + str(round(avg_gender_ins,2)) + ' dollars')\n",
    "            \n",
    "    \n",
    "    # Calculate the average insurance for male or female smokers\n",
    "    def average_insurance_smokers(self):\n",
    "        sexes_charges = list(zip(self.patients_sexes, self.patients_smoker_statuses, self.patients_charges))\n",
    "        sexes = ['male', 'female']\n",
    "        for i in sexes:\n",
    "            # filter for charges: where sex == 'male' or 'female' and smokers == 'yes'\n",
    "            smokers_charges = [float(item[2]) for item in sexes_charges if item[0] == str(i) and item[1] == 'yes']\n",
    "            avg_smokers = round(sum(smokers_charges) / len(smokers_charges), 2)\n",
    "            print('The average insurance charges for ' + i + ' smokers is ' + str(avg_smokers) + ' dollars')\n",
    "   \n",
    "\n",
    "    # Calculate the average insurance for male or female non-smokers\n",
    "    def average_insurance_non_smokers(self):\n",
    "        sexes_charges = list(zip(self.patients_sexes, self.patients_smoker_statuses, self.patients_charges))\n",
    "        sexes = ['male', 'female']\n",
    "        for i in sexes:\n",
    "            # filter for charges: where sex == 'male' or 'female' and smokers == 'no'\n",
    "            non_smokers_charges = [float(item[2]) for item in sexes_charges if item[0] == i and item[1] == 'no']\n",
    "            avg_non_smokers = round(sum(non_smokers_charges) / len(non_smokers_charges), 2)\n",
    "            print('The average insurance charges for ' + i + ' non-smokers is ' + str(avg_non_smokers) + ' dollars')\n",
    "    \n",
    "    \n",
    "    def unique_number_children(self):\n",
    "        # initialize empty list\n",
    "        unique_children = []\n",
    "        # iterate through each num in num_children list\n",
    "        for num in self.patients_num_children:\n",
    "            # if num is not already in the unique children list\n",
    "            # then add it to the unique children list\n",
    "            if num not in unique_children: \n",
    "                unique_children.append(num)\n",
    "        # return unique regions list\n",
    "        return unique_children\n",
    "    \n",
    "    \n",
    "     # find the average insurance based on the number of kids\n",
    "    def average_charges_per_kids(self):\n",
    "        charges_children = list(zip(self.patients_charges, self.patients_num_children))\n",
    "        # range(0, 6) represents the unique number of children in the data\n",
    "        for i in range(0, 6):\n",
    "            # str(i) because it is '1' for example. It has not been converted to integer\n",
    "            # filter for charges by the number of children\n",
    "            charges_per_child = [float(item[0]) for item in charges_children if item[1] == str(i)]\n",
    "            # average charges rounded to the hundreths\n",
    "            avg_charges_per_child = round(sum(charges_per_child) / len(charges_per_child), 2)\n",
    "            print('The average insurance based on number of kids - ' + str(i) + ': '+ str(avg_charges_per_child) \n",
    "                  + ' dollars')\n",
    "               \n",
    "            \n",
    "    def average_charges_per_kids_smokers(self):\n",
    "        charges_children_smokers = list(zip(self.patients_charges, self.patients_num_children, \n",
    "                                            self.patients_smoker_statuses))\n",
    "        # range(0, 6) represents the unique number of children in the data\n",
    "        for i in range(0, 6):\n",
    "            # str(i) because it is '1' for example. It has not been converted to integer\n",
    "            # filter for charges by the number of children and 'yes' for smokers\n",
    "            charges_per_child = [float(item[0]) for item in charges_children_smokers if item[1] == str(i)\n",
    "                                 and item[2] == 'yes']\n",
    "            # average charges rounded to the hundreths\n",
    "            avg_charges_per_child = round(sum(charges_per_child) / len(charges_per_child), 2)\n",
    "            print('For smokers: The average insurance based on number of kids - ' + str(i) + ': '\n",
    "                  + str(avg_charges_per_child) + ' dollars')\n",
    "            \n",
    "            \n",
    "    def average_charges_per_kids_non_smokers(self):\n",
    "        charges_children_smokers = list(zip(self.patients_charges, self.patients_num_children, self.patients_smoker_statuses))\n",
    "        # range(0, 6) represents the unique number of children in the data\n",
    "        for i in range(0, 6):\n",
    "            # str(i) because it is '1' for example. It has not been converted to integer\n",
    "            # filter for charges by the number of children and 'no' for non-smokers\n",
    "            charges_per_child = [float(item[0]) for item in charges_children_smokers if item[1] == str(i)\n",
    "                                 and item[2] == 'no']\n",
    "            # average charges rounded to the hundreths\n",
    "            avg_charges_per_child = round(sum(charges_per_child) / len(charges_per_child), 2)\n",
    "            print('For non-smokers: The average insurance based on number of kids - ' + str(i) + ': '\n",
    "                  + str(avg_charges_per_child) + ' dollars')\n",
    "            \n",
    "    \n",
    "    # Find the unique regions patients live in\n",
    "    def unique_regions(self):\n",
    "        # initialize empty list\n",
    "        unique_regions = []\n",
    "        # iterate through each region in regions list\n",
    "        for region in self.patients_regions:\n",
    "            # if the region is not already in the unique regions list\n",
    "            # then add it to the unique regions list\n",
    "            if region not in unique_regions: \n",
    "                unique_regions.append(region)\n",
    "        # return unique regions list\n",
    "        return unique_regions\n",
    "    \n",
    "    \n",
    "    # Analyze where a majority of the individuals are from\n",
    "    def most_common_region(self):\n",
    "        common_region = Counter(self.patients_regions)\n",
    "        # common_region will print regions with their corresponding numbers\n",
    "        print(common_region)\n",
    "        # select the top-most common region\n",
    "        common_region = common_region.most_common(1)\n",
    "        majority_region = (common_region[0][0])\n",
    "        return ('The majority of the individuals are from ' + majority_region)\n",
    "    \n",
    "    \n",
    "    # Calculate the average insurance in each unique region\n",
    "    def average_insurance_regions(self):\n",
    "        regions_insurance_charges = list(zip(self.patients_regions, self.patients_charges))\n",
    "        regions = ['southwest', 'southeast', 'northwest', 'northeast']\n",
    "        for region in regions:\n",
    "            # filter for charges from each region\n",
    "            unique_region = [float(item[1]) for item in regions_insurance_charges if item[0] == region]\n",
    "            avg_unique_region = round(sum(unique_region) / len(unique_region), 2)\n",
    "            print ('Average insurance - ' + region + ': ' + str(avg_unique_region) + ' dollars')\n",
    "    \n",
    "    \n",
    "    # Calculate the percentage of smokers in each region\n",
    "    def percentage_smokers_regions(self):\n",
    "        regions_smokers = list(zip(self.patients_regions, self.patients_smoker_statuses))\n",
    "        regions = ['southwest', 'southeast', 'northwest', 'northeast']\n",
    "        for region in regions:\n",
    "            total_region_count = [item[1] for item in regions_smokers if item[0] == region]\n",
    "            unique_region_count = [item[1] for item in regions_smokers if item[0] == region and item[1] == 'yes']\n",
    "            # percentage rounded to the hundreths\n",
    "            percentage_region = round((len(unique_region_count) / len(total_region_count)) * 100, 2)\n",
    "            print(str(percentage_region) + '%' + ' smoke in the ' + region)\n",
    "         \n",
    "        \n",
    "    # Calculate the average insurance considering the bmis and smoker statuses(smoker)\n",
    "    def average_insurance_bmi_smokers(self):\n",
    "        bmis_float = [float(i) for i in self.patients_bmis]\n",
    "        charges_bmi_smoker = list(zip(self.patients_charges, bmis_float, self.patients_smoker_statuses))\n",
    "        \n",
    "        underweight = [float(item[0]) for item in charges_bmi_smoker if item[1] <= 18.5 and item[2] == 'yes']\n",
    "        underweight_average = round(sum(underweight) / len(underweight), 2)\n",
    "\n",
    "        healthy_range = [float(item[0]) for item in charges_bmi_smoker if item[1] >= 18.5 and item[1] <= 24.9 \n",
    "                         if item[2] == 'yes']\n",
    "        healthy_range_average = round(sum(healthy_range) / len(healthy_range), 2)\n",
    "\n",
    "        overweight = [float(item[0]) for item in charges_bmi_smoker if item[1] >= 25 and item[1] <= 29.9 \n",
    "                      if item[2] == 'yes']\n",
    "        overweight_average = round(sum(overweight) / len(overweight), 2)\n",
    "\n",
    "        obesity = [float(item[0]) for item in charges_bmi_smoker if item[1] >= 30 and item[1] <= 39.9 \n",
    "                   if item[2] == 'yes']\n",
    "        obesity_average = round(sum(obesity) / len(obesity), 2) \n",
    "\n",
    "        severe_obesity = [float(item[0]) for item in charges_bmi_smoker if item[1] >= 40 and item[2] == 'yes']\n",
    "        severe_obesity_average = round(sum(severe_obesity) / len(severe_obesity), 2)\n",
    "        \n",
    "        #bmi_chart = [underweight_average, healthy_range_average, overweight_average, obesity_average, severe_obesity_average]\n",
    "    \n",
    "        return ('Average insurance for smokers - underweight:     ' + str(underweight_average), \n",
    "                'Average insurance for smokers - healthy_range:   ' + str(healthy_range_average), \n",
    "                'Average insurance for smokers - overweight:      ' + str(overweight_average), \n",
    "                'Average insurance for smokers - obesity:         ' + str(obesity_average), \n",
    "                'Average insurance for smokers - severe_obesity:  ' + str(severe_obesity_average))\n",
    "    \n",
    "    \n",
    "    # # Calculate the average insurance considering the bmis and smoker statuses(non-smoker)\n",
    "    def average_insurance_bmi_non_smokers(self):\n",
    "        bmis_float = [float(i) for i in self.patients_bmis]\n",
    "        charges_bmi_smoker = list(zip(self.patients_charges, bmis_float, self.patients_smoker_statuses))\n",
    "        \n",
    "        underweight = [float(item[0]) for item in charges_bmi_smoker if item[1] <= 18.5 and item[2] == 'no']\n",
    "        underweight_average = round(sum(underweight) / len(underweight), 2)\n",
    "\n",
    "        healthy_range = [float(item[0]) for item in charges_bmi_smoker if item[1] >= 18.5 and item[1] <= 24.9 \n",
    "                         if item[2] == 'no']\n",
    "        healthy_range_average = round(sum(healthy_range) / len(healthy_range), 2)\n",
    "\n",
    "        overweight = [float(item[0]) for item in charges_bmi_smoker if item[1] >= 25 and item[1] <= 29.9 \n",
    "                      if item[2] == 'no']\n",
    "        overweight_average = round(sum(overweight) / len(overweight), 2)\n",
    "\n",
    "        obesity = [float(item[0]) for item in charges_bmi_smoker if item[1] >= 30 and item[1] <= 39.9 \n",
    "                   if item[2] == 'no']\n",
    "        obesity_average = round(sum(obesity) / len(obesity), 2) \n",
    "\n",
    "        severe_obesity = [float(item[0]) for item in charges_bmi_smoker if item[1] >= 40 and item[2] == 'no']\n",
    "        severe_obesity_average = round(sum(severe_obesity) / len(severe_obesity), 2)\n",
    "        \n",
    "        return ('Average insurance for non-smokers - underweight:     ' + str(underweight_average), \n",
    "                'Average insurance for non-smokers - healthy_range:   ' + str(healthy_range_average), \n",
    "                'Average insurance for non-smokers - overweight:      ' + str(overweight_average), \n",
    "                'Average insurance for non-smokers - obesity:         ' + str(obesity_average), \n",
    "                'Average insurance for non-smokers - severe_obesity:  ' + str(severe_obesity_average))\n",
    "    \n",
    "    \n",
    "    def average_bmis_regions(self):\n",
    "        bmis_float = [float(i) for i in self.patients_bmis]\n",
    "        bmis_regions = list(zip(bmis_float, self.patients_regions, self.patients_smoker_statuses))\n",
    "        regions = ['southwest', 'southeast', 'northwest', 'northeast']\n",
    "        for region in regions:\n",
    "            bmi = [item[0] for item in bmis_regions if item[1] == region]\n",
    "            average_bmi = round(sum(bmi) / len(bmi), 2)\n",
    "            #bmi = [item[0] for item in bmis_regions if item[1] == region\n",
    "            print('The average bmi in ' + region + ' is ' + str(average_bmi))\n",
    "        "
   ]
  },
  {
   "cell_type": "markdown",
   "metadata": {},
   "source": [
    "### Number of methods in the InsuranceData class"
   ]
  },
  {
   "cell_type": "code",
   "execution_count": 5,
   "metadata": {
    "scrolled": true
   },
   "outputs": [
    {
     "name": "stdout",
     "output_type": "stream",
     "text": [
      "19\n"
     ]
    }
   ],
   "source": [
    "method_list = [method for method in dir(InsuranceData) if method.startswith('__') is False]\n",
    "print(len(method_list))"
   ]
  },
  {
   "cell_type": "markdown",
   "metadata": {},
   "source": [
    "### An instance of the class called `insurance_data` is created below\n",
    "With this instance, each method can be used to see the results of the analysis."
   ]
  },
  {
   "cell_type": "code",
   "execution_count": 6,
   "metadata": {},
   "outputs": [],
   "source": [
    "insurance_data = InsuranceData(ages, sexes, bmis, num_children, smoker_status, regions, insurance_charges)"
   ]
  },
  {
   "cell_type": "markdown",
   "metadata": {},
   "source": [
    "### What is the average age of a patient?"
   ]
  },
  {
   "cell_type": "code",
   "execution_count": 7,
   "metadata": {},
   "outputs": [
    {
     "data": {
      "text/plain": [
       "'The average age of a patient is 39.21 years'"
      ]
     },
     "execution_count": 7,
     "metadata": {},
     "output_type": "execute_result"
    }
   ],
   "source": [
    "insurance_data.analyze_ages()"
   ]
  },
  {
   "cell_type": "markdown",
   "metadata": {},
   "source": [
    "### What is the most common age?"
   ]
  },
  {
   "cell_type": "code",
   "execution_count": 8,
   "metadata": {},
   "outputs": [
    {
     "data": {
      "text/plain": [
       "'The dominant age of taxpayers is 18 year olds'"
      ]
     },
     "execution_count": 8,
     "metadata": {},
     "output_type": "execute_result"
    }
   ],
   "source": [
    "insurance_data.dominant_age()"
   ]
  },
  {
   "cell_type": "markdown",
   "metadata": {},
   "source": [
    "### Which age contributes the most to the total insurance charges?\n",
    "The `19 year olds` contribute the highest percentage of `3.73%` to the total insurance charges even though the `majority by age` are the `18 year olds`, they contribute `2.75%` to the total insurance. Most of the tax payers contribute mostly `1% to 2%`. "
   ]
  },
  {
   "cell_type": "markdown",
   "metadata": {},
   "source": [
    "### The percentage of males vs. females\n"
   ]
  },
  {
   "cell_type": "markdown",
   "metadata": {},
   "source": [
    "Both genders seem to be well represented in the dataset"
   ]
  },
  {
   "cell_type": "code",
   "execution_count": 9,
   "metadata": {},
   "outputs": [
    {
     "data": {
      "text/plain": [
       "'The percentage of male in the dataset is 50.5% and The percentage of female in the dataset is 49.5%'"
      ]
     },
     "execution_count": 9,
     "metadata": {},
     "output_type": "execute_result"
    }
   ],
   "source": [
    "insurance_data.male_female_percentage()"
   ]
  },
  {
   "cell_type": "markdown",
   "metadata": {},
   "source": [
    "### The average yearly insurance for an individual"
   ]
  },
  {
   "cell_type": "code",
   "execution_count": 10,
   "metadata": {},
   "outputs": [
    {
     "data": {
      "text/plain": [
       "'Average Yearly Medical Insurance Charges: 13270.42 dollars.'"
      ]
     },
     "execution_count": 10,
     "metadata": {},
     "output_type": "execute_result"
    }
   ],
   "source": [
    "insurance_data.average_charges()"
   ]
  },
  {
   "cell_type": "markdown",
   "metadata": {},
   "source": [
    "### The average insurance for a male vs. female\n",
    "This shows that males pay higher average charges yearly"
   ]
  },
  {
   "cell_type": "code",
   "execution_count": 11,
   "metadata": {},
   "outputs": [
    {
     "name": "stdout",
     "output_type": "stream",
     "text": [
      "The average insurance each male pays is 13956.75 dollars\n",
      "The average insurance each female pays is 12569.58 dollars\n"
     ]
    }
   ],
   "source": [
    "insurance_data.gender_average_insurance()"
   ]
  },
  {
   "cell_type": "markdown",
   "metadata": {},
   "source": [
    "### The average insurance for smokers: male vs. female\n",
    "The average insurance for a smoker is more than `double` the yearly average insurance."
   ]
  },
  {
   "cell_type": "code",
   "execution_count": 12,
   "metadata": {},
   "outputs": [
    {
     "name": "stdout",
     "output_type": "stream",
     "text": [
      "The average insurance charges for male smokers is 33042.01 dollars\n",
      "The average insurance charges for female smokers is 30679.0 dollars\n"
     ]
    }
   ],
   "source": [
    "insurance_data.average_insurance_smokers()"
   ]
  },
  {
   "cell_type": "markdown",
   "metadata": {},
   "source": [
    "### The average insurance for non-smokers: male vs. females\n",
    "It seems the average insurance for non-smokers is lower than than the yearly average insurance."
   ]
  },
  {
   "cell_type": "code",
   "execution_count": 13,
   "metadata": {},
   "outputs": [
    {
     "name": "stdout",
     "output_type": "stream",
     "text": [
      "The average insurance charges for male non-smokers is 8087.2 dollars\n",
      "The average insurance charges for female non-smokers is 8762.3 dollars\n"
     ]
    }
   ],
   "source": [
    "insurance_data.average_insurance_non_smokers()"
   ]
  },
  {
   "cell_type": "markdown",
   "metadata": {},
   "source": [
    "### The unique number of children "
   ]
  },
  {
   "cell_type": "code",
   "execution_count": 14,
   "metadata": {},
   "outputs": [
    {
     "data": {
      "text/plain": [
       "['0', '1', '3', '2', '5', '4']"
      ]
     },
     "execution_count": 14,
     "metadata": {},
     "output_type": "execute_result"
    }
   ],
   "source": [
    "insurance_data.unique_number_children()"
   ]
  },
  {
   "cell_type": "markdown",
   "metadata": {},
   "source": [
    "### The average insurance based on the number of kids\n",
    "The unique number of kids in this dataset ranges from `0 to 5`. \n",
    "From the analysis below, the higher the number of children, the higher the insurance charges except for those with 5 children who pay relatively low average insurance compared to the others."
   ]
  },
  {
   "cell_type": "code",
   "execution_count": 15,
   "metadata": {},
   "outputs": [
    {
     "name": "stdout",
     "output_type": "stream",
     "text": [
      "The average insurance based on number of kids - 0: 12365.98 dollars\n",
      "The average insurance based on number of kids - 1: 12731.17 dollars\n",
      "The average insurance based on number of kids - 2: 15073.56 dollars\n",
      "The average insurance based on number of kids - 3: 15355.32 dollars\n",
      "The average insurance based on number of kids - 4: 13850.66 dollars\n",
      "The average insurance based on number of kids - 5: 8786.04 dollars\n"
     ]
    }
   ],
   "source": [
    "insurance_data.average_charges_per_kids()"
   ]
  },
  {
   "cell_type": "markdown",
   "metadata": {},
   "source": [
    "### The average insurance based on the number of kids and smoker status(yes)"
   ]
  },
  {
   "cell_type": "code",
   "execution_count": 16,
   "metadata": {},
   "outputs": [
    {
     "name": "stdout",
     "output_type": "stream",
     "text": [
      "For smokers: The average insurance based on number of kids - 0: 31341.36 dollars\n",
      "For smokers: The average insurance based on number of kids - 1: 31822.65 dollars\n",
      "For smokers: The average insurance based on number of kids - 2: 33844.24 dollars\n",
      "For smokers: The average insurance based on number of kids - 3: 32724.92 dollars\n",
      "For smokers: The average insurance based on number of kids - 4: 26532.28 dollars\n",
      "For smokers: The average insurance based on number of kids - 5: 19023.26 dollars\n"
     ]
    }
   ],
   "source": [
    "insurance_data.average_charges_per_kids_smokers()"
   ]
  },
  {
   "cell_type": "markdown",
   "metadata": {},
   "source": [
    "### The average insurance based on the number of kids and smoker status(no)"
   ]
  },
  {
   "cell_type": "code",
   "execution_count": 17,
   "metadata": {
    "scrolled": true
   },
   "outputs": [
    {
     "name": "stdout",
     "output_type": "stream",
     "text": [
      "For non-smokers: The average insurance based on number of kids - 0: 7611.79 dollars\n",
      "For non-smokers: The average insurance based on number of kids - 1: 8303.11 dollars\n",
      "For non-smokers: The average insurance based on number of kids - 2: 9493.09 dollars\n",
      "For non-smokers: The average insurance based on number of kids - 3: 9614.52 dollars\n",
      "For non-smokers: The average insurance based on number of kids - 4: 12121.34 dollars\n",
      "For non-smokers: The average insurance based on number of kids - 5: 8183.85 dollars\n"
     ]
    }
   ],
   "source": [
    "insurance_data.average_charges_per_kids_non_smokers()"
   ]
  },
  {
   "cell_type": "markdown",
   "metadata": {},
   "source": [
    "### Unique regions\n",
    "4 regions were represented in this dataset."
   ]
  },
  {
   "cell_type": "code",
   "execution_count": 18,
   "metadata": {},
   "outputs": [
    {
     "data": {
      "text/plain": [
       "['southwest', 'southeast', 'northwest', 'northeast']"
      ]
     },
     "execution_count": 18,
     "metadata": {},
     "output_type": "execute_result"
    }
   ],
   "source": [
    "insurance_data.unique_regions()"
   ]
  },
  {
   "cell_type": "markdown",
   "metadata": {},
   "source": [
    "### Are the regions fairly represented?\n",
    "The number of people from different regions are fairly represented with the majority being in `southeast`"
   ]
  },
  {
   "cell_type": "code",
   "execution_count": 19,
   "metadata": {},
   "outputs": [
    {
     "name": "stdout",
     "output_type": "stream",
     "text": [
      "Counter({'southeast': 364, 'southwest': 325, 'northwest': 325, 'northeast': 324})\n"
     ]
    },
    {
     "data": {
      "text/plain": [
       "'The majority of the individuals are from southeast'"
      ]
     },
     "execution_count": 19,
     "metadata": {},
     "output_type": "execute_result"
    }
   ],
   "source": [
    "insurance_data.most_common_region()"
   ]
  },
  {
   "cell_type": "markdown",
   "metadata": {},
   "source": [
    "### The average insurance in different regions\n",
    "The average insurance is highest in the `southeast` and lowest in the `northwest` with a difference of `2317.83`.\n",
    "`southwest` and `northwest` have the lowest averages."
   ]
  },
  {
   "cell_type": "code",
   "execution_count": 20,
   "metadata": {},
   "outputs": [
    {
     "name": "stdout",
     "output_type": "stream",
     "text": [
      "Average insurance - southwest: 12346.94 dollars\n",
      "Average insurance - southeast: 14735.41 dollars\n",
      "Average insurance - northwest: 12417.58 dollars\n",
      "Average insurance - northeast: 13406.38 dollars\n"
     ]
    }
   ],
   "source": [
    "insurance_data.average_insurance_regions()"
   ]
  },
  {
   "cell_type": "markdown",
   "metadata": {},
   "source": [
    "### The percentage of smokers in different regions"
   ]
  },
  {
   "cell_type": "code",
   "execution_count": 21,
   "metadata": {},
   "outputs": [
    {
     "name": "stdout",
     "output_type": "stream",
     "text": [
      "17.85% smoke in the southwest\n",
      "25.0% smoke in the southeast\n",
      "17.85% smoke in the northwest\n",
      "20.68% smoke in the northeast\n"
     ]
    }
   ],
   "source": [
    "insurance_data.percentage_smokers_regions()"
   ]
  },
  {
   "cell_type": "markdown",
   "metadata": {},
   "source": [
    "### Average insurance based on bmi/smoker status\n",
    "The [chart](https://www.nhsinform.scot/healthy-living/food-and-nutrition/healthy-eating-and-weight-loss/understanding-your-health-and-weight-body-mass-index-bmi) below would be used as a guide:\n",
    "\n",
    "|bmi|description|\n",
    "|:--|:---------|\n",
    "|under 18.5| This is described as underweight|\n",
    "|between 18.5 and 24.9| This is described as the ‘healthy range’|\n",
    "|between 25 and 29.9| This is described as overweight|\n",
    "|between 30 and 39.9| This is described as obesity|\n",
    "|40 or over|This is described as severe obesity|\n"
   ]
  },
  {
   "cell_type": "markdown",
   "metadata": {},
   "source": [
    "### Average insurance based on BMIs and smoker status(yes)\n",
    "The higher the bmi, the higher the average insurance.\n",
    "The average insurance is even higher if the patient smokes."
   ]
  },
  {
   "cell_type": "code",
   "execution_count": 22,
   "metadata": {},
   "outputs": [
    {
     "data": {
      "text/plain": [
       "('Average insurance for smokers - underweight:     18809.82',\n",
       " 'Average insurance for smokers - healthy_range:   19942.22',\n",
       " 'Average insurance for smokers - overweight:      22379.03',\n",
       " 'Average insurance for smokers - obesity:         40895.85',\n",
       " 'Average insurance for smokers - severe_obesity:  45467.79')"
      ]
     },
     "execution_count": 22,
     "metadata": {},
     "output_type": "execute_result"
    }
   ],
   "source": [
    "insurance_data.average_insurance_bmi_smokers()"
   ]
  },
  {
   "cell_type": "markdown",
   "metadata": {},
   "source": [
    "### Average insurance based on BMIs and smoker status(no)"
   ]
  },
  {
   "cell_type": "code",
   "execution_count": 23,
   "metadata": {},
   "outputs": [
    {
     "data": {
      "text/plain": [
       "('Average insurance for non-smokers - underweight:     5485.06',\n",
       " 'Average insurance for non-smokers - healthy_range:   7599.64',\n",
       " 'Average insurance for non-smokers - overweight:      8306.38',\n",
       " 'Average insurance for non-smokers - obesity:         8927.2',\n",
       " 'Average insurance for non-smokers - severe_obesity:  8179.66')"
      ]
     },
     "execution_count": 23,
     "metadata": {},
     "output_type": "execute_result"
    }
   ],
   "source": [
    "insurance_data.average_insurance_bmi_non_smokers()"
   ]
  },
  {
   "cell_type": "markdown",
   "metadata": {},
   "source": [
    "### The average bmis in different regions\n",
    "The analysis below shows that the average patient in the `south` is `obese`\n",
    "and the average patient in the `north` is `overweight`.\n",
    "The highest average bmi is in the `southeast`."
   ]
  },
  {
   "cell_type": "code",
   "execution_count": 24,
   "metadata": {},
   "outputs": [
    {
     "name": "stdout",
     "output_type": "stream",
     "text": [
      "The average bmi in southwest is 30.6\n",
      "The average bmi in southeast is 33.36\n",
      "The average bmi in northwest is 29.2\n",
      "The average bmi in northeast is 29.17\n"
     ]
    }
   ],
   "source": [
    "insurance_data.average_bmis_regions()"
   ]
  },
  {
   "cell_type": "markdown",
   "metadata": {},
   "source": [
    "# Create Dictionary"
   ]
  },
  {
   "cell_type": "code",
   "execution_count": 25,
   "metadata": {},
   "outputs": [],
   "source": [
    "insurance_dictionary = insurance_data.__dict__\n",
    "#print(insurance_dictionary)"
   ]
  },
  {
   "cell_type": "markdown",
   "metadata": {},
   "source": [
    "All patient data is now neatly organized in a dictionary. This is convenient for further analysis if a decision is made to continue making investigations for the attributes in **insurance.csv**"
   ]
  },
  {
   "cell_type": "markdown",
   "metadata": {},
   "source": [
    "### Convert the following columns to integer/float as the case may be\n",
    "* `patients_ages`\n",
    "* `patients_bmis`\n",
    "* `patients_num_children`\n",
    "* `patients_charges`"
   ]
  },
  {
   "cell_type": "code",
   "execution_count": 26,
   "metadata": {},
   "outputs": [],
   "source": [
    "\n",
    "insurance_dictionary = insurance_data.__dict__\n",
    "ages_int = [int(x) for x in insurance_dictionary['patients_ages']]\n",
    "patients_bmis_int = [float(x) for x in insurance_dictionary['patients_bmis']]\n",
    "patients_num_children_int = [int(x) for x in insurance_dictionary['patients_num_children']]\n",
    "patients_charges_int = [float(x) for x in insurance_dictionary['patients_charges']]\n",
    "\n",
    "# update the dictionary\n",
    "insurance_dictionary.update({'patients_ages': ages_int})\n",
    "insurance_dictionary.update({'patients_bmis': patients_bmis_int})\n",
    "insurance_dictionary.update({'patients_num_children': patients_num_children_int})\n",
    "insurance_dictionary.update({'patients_charges': patients_charges_int})\n",
    "\n",
    "#print(insurance_dictionary)"
   ]
  },
  {
   "cell_type": "markdown",
   "metadata": {},
   "source": [
    "# Conclusion\n",
    "\n",
    "As seen from the analysis, \n",
    "Insurance charges are generally lower \n",
    "* if you have fewer children\n",
    "* do not smoke \n",
    "* and your bmi is in the healthy range\n",
    "    \n",
    "Further investigations could be done to understand why:\n",
    "* averages in the `southeast` are higher\n",
    "* averages are lower with 5 children\n",
    "* the average insurance for female smokers/non-smokers is higher than that of males eventhough the average yearly insurance show that men pay more insurance"
   ]
  }
 ],
 "metadata": {
  "celltoolbar": "Raw Cell Format",
  "kernelspec": {
   "display_name": "Python 3",
   "language": "python",
   "name": "python3"
  },
  "language_info": {
   "codemirror_mode": {
    "name": "ipython",
    "version": 3
   },
   "file_extension": ".py",
   "mimetype": "text/x-python",
   "name": "python",
   "nbconvert_exporter": "python",
   "pygments_lexer": "ipython3",
   "version": "3.8.3"
  }
 },
 "nbformat": 4,
 "nbformat_minor": 4
}
